{
 "cells": [
  {
   "cell_type": "markdown",
   "metadata": {},
   "source": [
    "# Paper Link : [Link](https://papers.nips.cc/paper/6621-label-efficient-learning-of-transferable-representations-acrosss-domains-and-tasks.pdf)\n",
    "## NOTES\n",
    "\n",
    "### Experiment  1 : Domain Adaptation across disjoint labels from MNIST and SVNH\n",
    "### TODO\n",
    "\n",
    "1. Process the MNIST and SVNH Dataset as required: Crudely Done\n",
    "  * MNIST : 5-9 Classes - Done\n",
    "  * SVNH : 0-4 Classes - Done\n",
    "2. Creation of Architecture as shown in the image : ![architecture](https://raw.githubusercontent.com/Gokkulnath/Research-Paper-Result-Reproduction/master/Label%20Efficient%20Learning%20of%20Transferable%20Representations%20across%20Domains%20and%20Tasks/ARchitecture%20-%20Copy.PNG) - Keras Issue - Need Debugging\n",
    "3. Train the Model with Optimiser Specified Separately and load the weights in the main experiment.\n",
    "4. Initialise Weights only for Source CNN Model with the pretrained weights.\n",
    "5. Proceed with Trainning the Entire Architecture.\n",
    "\n",
    "\n",
    "\n",
    "# Six different methods : \n",
    "* (i) Target only: the model is trained on D2 from scratch; \n",
    "* (ii) Fine-tune: the model is pretrained on D1 and fine-tuned on D2;\n",
    "* (iii) Matching networks [70]: we first pretrain the model on D3, then use D2 as the support set in the matching networks; \n",
    "* (iv) Fine-tuned matching networks: same as baseline iii, except that for each k the model is fine-tuned on D2 with 5-way (k 􀀀 1)-shot learning: k 􀀀 1 examples in each class are randomly selected as the support set, and the last example in each class is used as the query set; \n",
    "* (v) Fine-tune + adversarial: in addition to baseline ii, the model is also trained on D1 and D3 with a domain adversarial loss; \n",
    "* (vi.) Full model: fine-tune the model with the proposed multi-layer domain adversarial loss.\n"
   ]
  },
  {
   "cell_type": "code",
   "execution_count": 7,
   "metadata": {},
   "outputs": [
    {
     "name": "stdout",
     "output_type": "stream",
     "text": [
      "Keras Version :  2.2.4\n",
      "Tensorflow Version :  1.11.0\n"
     ]
    }
   ],
   "source": [
    "import tensorflow as tf\n",
    "# Keras based Dependencies\n",
    "import keras\n",
    "from keras.models import Sequential,Model\n",
    "from keras.datasets import mnist\n",
    "from keras.optimizers import Adam\n",
    "from keras.layers import Dense,Conv2D,MaxPool2D,Dropout,BatchNormalization,Activation,Flatten,merge\n",
    "from keras.initializers import TruncatedNormal\n",
    "from keras.losses import categorical_crossentropy\n",
    "from keras.preprocessing import image\n",
    "from keras.utils import to_categorical\n",
    "\n",
    "\n",
    "import numpy as np\n",
    "from scipy.io import loadmat\n",
    "import h5py\n",
    "import os\n",
    "from IPython.display import Image\n",
    "from pathlib import Path\n",
    "\n",
    "# To Grow GPU Usage dynamically when required\n",
    "config = tf.ConfigProto()\n",
    "config.gpu_options.allow_growth=True\n",
    "sess = tf.Session(config=config)\n",
    "\n",
    "print(\"Keras Version : \",keras.__version__)\n",
    "print(\"Tensorflow Version : \",tf.__version__)"
   ]
  },
  {
   "cell_type": "markdown",
   "metadata": {},
   "source": [
    "# Mnist Data Preparation :\n"
   ]
  },
  {
   "cell_type": "code",
   "execution_count": 3,
   "metadata": {
    "scrolled": true
   },
   "outputs": [
    {
     "name": "stdout",
     "output_type": "stream",
     "text": [
      "Downloading data from https://s3.amazonaws.com/img-datasets/mnist.npz\n",
      "11493376/11490434 [==============================] - 4s 0us/step\n"
     ]
    }
   ],
   "source": [
    "(X_train,Y_train),(X_test,Y_test)=mnist.load_data()"
   ]
  },
  {
   "cell_type": "code",
   "execution_count": 4,
   "metadata": {
    "scrolled": true
   },
   "outputs": [
    {
     "name": "stdout",
     "output_type": "stream",
     "text": [
      "5\n"
     ]
    }
   ],
   "source": [
    "X_train_fil=X_train[Y_train>=5]\n",
    "Y_train_fil=Y_train[Y_train>=5]\n",
    "\n",
    "X_test_fil=X_test[Y_test>=5]\n",
    "Y_test_fil=Y_test[Y_test>=5]\n",
    "\n",
    "# One Hot Encoding\n",
    "num_classes = len(np.unique(Y_train_fil))\n",
    "'''\n",
    "Classes : \n",
    "5 -> 1 0 0 0 0\n",
    "6 -> 0 1 0 0 0\n",
    "7 -> 0 0 1 0 0\n",
    "8 -> 0 0 0 1 0\n",
    "9 -> 0 0 0 0 1\n",
    "\n",
    "'''\n",
    "print(num_classes)\n",
    "start_class= np.min(Y_train_fil)\n",
    "Y_train_fil_cat= np.eye(num_classes)[Y_train_fil-start_class]\n",
    "Y_test_fil_cat=np.eye(num_classes)[Y_test_fil-start_class]"
   ]
  },
  {
   "cell_type": "code",
   "execution_count": 5,
   "metadata": {},
   "outputs": [
    {
     "name": "stdout",
     "output_type": "stream",
     "text": [
      "Training Data (29404, 28, 28) Trainning Label (29404, 5)\n",
      "Test Data (4861, 28, 28) Test Label (4861, 5)\n"
     ]
    }
   ],
   "source": [
    "print(\"Training Data\", X_train_fil.shape,\"Trainning Label\",Y_train_fil_cat.shape)\n",
    "print(\"Test Data\", X_test_fil.shape,\"Test Label\",Y_test_fil_cat.shape)\n",
    "\n"
   ]
  },
  {
   "cell_type": "markdown",
   "metadata": {},
   "source": [
    "# SVNH Data Preparation :"
   ]
  },
  {
   "cell_type": "code",
   "execution_count": 10,
   "metadata": {},
   "outputs": [],
   "source": [
    "!mkdir Datasets\n",
    "!mkdir Datasets/SVNH"
   ]
  },
  {
   "cell_type": "code",
   "execution_count": 9,
   "metadata": {},
   "outputs": [
    {
     "name": "stdout",
     "output_type": "stream",
     "text": [
      "--2018-11-19 21:15:08--  http://ufldl.stanford.edu/housenumbers/train_32x32.mat\n",
      "Resolving ufldl.stanford.edu (ufldl.stanford.edu)... 171.64.68.10\n",
      "Connecting to ufldl.stanford.edu (ufldl.stanford.edu)|171.64.68.10|:80... connected.\n",
      "HTTP request sent, awaiting response... 200 OK\n",
      "Length: 182040794 (174M) [text/plain]\n",
      "Saving to: ‘train_32x32.mat’\n",
      "\n",
      "train_32x32.mat     100%[===================>] 173.61M  1.31MB/s    in 76s     \n",
      "\n",
      "2018-11-19 21:16:24 (2.29 MB/s) - ‘train_32x32.mat’ saved [182040794/182040794]\n",
      "\n",
      "--2018-11-19 21:16:24--  http://ufldl.stanford.edu/housenumbers/test_32x32.mat\n",
      "Resolving ufldl.stanford.edu (ufldl.stanford.edu)... 171.64.68.10\n",
      "Connecting to ufldl.stanford.edu (ufldl.stanford.edu)|171.64.68.10|:80... connected.\n",
      "HTTP request sent, awaiting response... 200 OK\n",
      "Length: 64275384 (61M) [text/plain]\n",
      "Saving to: ‘test_32x32.mat’\n",
      "\n",
      "test_32x32.mat      100%[===================>]  61.30M  1.84MB/s    in 42s     \n",
      "\n",
      "2018-11-19 21:17:07 (1.45 MB/s) - ‘test_32x32.mat’ saved [64275384/64275384]\n",
      "\n",
      "mv: target 'DatasetsSVNH\\' is not a directory\n"
     ]
    }
   ],
   "source": [
    "!wget http://ufldl.stanford.edu/housenumbers/train_32x32.mat\n",
    "!wget http://ufldl.stanford.edu/housenumbers/test_32x32.mat\n"
   ]
  },
  {
   "cell_type": "code",
   "execution_count": 12,
   "metadata": {},
   "outputs": [],
   "source": [
    "!mv *.mat Datasets/SVNH/"
   ]
  },
  {
   "cell_type": "code",
   "execution_count": 182,
   "metadata": {},
   "outputs": [
    {
     "name": "stdout",
     "output_type": "stream",
     "text": [
      "(32, 32, 3, 73257)\n"
     ]
    }
   ],
   "source": [
    "PathtoSVNH='Datasets/SVNH/'\n",
    "SVNH_tr=loadmat(PathtoSVNH+'train_32x32.mat')\n",
    "SVNH_tst=loadmat(PathtoSVNH+'test_32x32.mat')\n",
    "SVNH_train=SVNH_tr['X']\n",
    "SVNH_train_label=SVNH_tr['y']\n",
    "SVNH_test=SVNH_tst['X']\n",
    "SVNH_test_label=SVNH_tst['y']\n",
    "\n",
    "# Cleaning up the data into suitable standard format\n",
    "print(SVNH_train.shape)\n",
    "SVNH_train=np.transpose(SVNH_train, (3,0,1,2))\n",
    "SVNH_test=np.transpose(SVNH_test, (3,0,1,2))\n",
    "\n",
    "SVNH_train_label = np.concatenate( SVNH_train_label, axis=0 )\n",
    "SVNH_test_label = np.concatenate( SVNH_test_label, axis=0 )\n",
    "\n",
    "#  '0' has label 10.\n",
    "#SVNH_train_label[SVNH_train_label==10]=0\n",
    "#SVNH_test_label[SVNH_test_label==10]=0\n",
    "\n",
    "del SVNH_tr,SVNH_tst"
   ]
  },
  {
   "cell_type": "code",
   "execution_count": 183,
   "metadata": {
    "scrolled": true
   },
   "outputs": [
    {
     "name": "stdout",
     "output_type": "stream",
     "text": [
      "5\n"
     ]
    }
   ],
   "source": [
    "SVNH_train_fil=SVNH_train[SVNH_train_label<5]\n",
    "SVNH_train_label_fil=SVNH_train_label[SVNH_train_label<5]\n",
    "SVNH_test_fil=SVNH_test[SVNH_test_label<5]\n",
    "SVNH_test_label_fil=SVNH_test_label[SVNH_test_label<5]\n",
    "# One Hot Encoding\n",
    "'''\n",
    "Classes : \n",
    "0 -> 1 0 0 0 0\n",
    "1 -> 0 1 0 0 0\n",
    "2 -> 0 0 1 0 0\n",
    "3 -> 0 0 0 1 0\n",
    "4 -> 0 0 0 0 1\n",
    "'''\n",
    "print(num_classes)\n",
    "start_class= np.min(SVNH_train_label_fil)\n",
    "\n",
    "num_classes = len(np.unique(SVNH_train_label_fil))\n",
    "SVNH_train_label_fil_cat= np.eye(num_classes)[SVNH_train_label_fil-start_class] # -1 to make the indexing count\n",
    "SVNH_test_label_fil_cat=np.eye(num_classes)[SVNH_test_label_fil-start_class]"
   ]
  },
  {
   "cell_type": "code",
   "execution_count": 207,
   "metadata": {},
   "outputs": [
    {
     "data": {
      "text/plain": [
       "(73257, 32, 32, 3)"
      ]
     },
     "execution_count": 207,
     "metadata": {},
     "output_type": "execute_result"
    }
   ],
   "source": [
    "SVNH_train.shape"
   ]
  },
  {
   "cell_type": "code",
   "execution_count": 208,
   "metadata": {},
   "outputs": [],
   "source": [
    "import random\n",
    "\n",
    "def plt_label(imgs,labels,target=0):\n",
    "    idxs=np.where(np.argmax(labels,axis=1)==target)\n",
    "    idx=random.choice(idxs)\n",
    "    print(idx)\n",
    "    plt.imshow(imgs[idx])\n",
    "    plt.title(labels[idx])"
   ]
  },
  {
   "cell_type": "code",
   "execution_count": 209,
   "metadata": {
    "scrolled": true
   },
   "outputs": [
    {
     "name": "stdout",
     "output_type": "stream",
     "text": [
      "[    2     4    12 ... 73244 73252 73253]\n"
     ]
    },
    {
     "ename": "TypeError",
     "evalue": "Invalid dimensions for image data",
     "output_type": "error",
     "traceback": [
      "\u001b[0;31m---------------------------------------------------------------------------\u001b[0m",
      "\u001b[0;31mTypeError\u001b[0m                                 Traceback (most recent call last)",
      "\u001b[0;32m<ipython-input-209-ef3237eddc67>\u001b[0m in \u001b[0;36m<module>\u001b[0;34m\u001b[0m\n\u001b[0;32m----> 1\u001b[0;31m \u001b[0mplt_label\u001b[0m\u001b[0;34m(\u001b[0m\u001b[0mSVNH_train\u001b[0m\u001b[0;34m,\u001b[0m\u001b[0mto_categorical\u001b[0m\u001b[0;34m(\u001b[0m\u001b[0mSVNH_train_label\u001b[0m\u001b[0;34m)\u001b[0m\u001b[0;34m,\u001b[0m\u001b[0mtarget\u001b[0m\u001b[0;34m=\u001b[0m\u001b[0;36m2\u001b[0m\u001b[0;34m)\u001b[0m\u001b[0;34m\u001b[0m\u001b[0;34m\u001b[0m\u001b[0m\n\u001b[0m",
      "\u001b[0;32m<ipython-input-208-5be7cc852285>\u001b[0m in \u001b[0;36mplt_label\u001b[0;34m(imgs, labels, target)\u001b[0m\n\u001b[1;32m      5\u001b[0m     \u001b[0midx\u001b[0m\u001b[0;34m=\u001b[0m\u001b[0mrandom\u001b[0m\u001b[0;34m.\u001b[0m\u001b[0mchoice\u001b[0m\u001b[0;34m(\u001b[0m\u001b[0midxs\u001b[0m\u001b[0;34m)\u001b[0m\u001b[0;34m\u001b[0m\u001b[0;34m\u001b[0m\u001b[0m\n\u001b[1;32m      6\u001b[0m     \u001b[0mprint\u001b[0m\u001b[0;34m(\u001b[0m\u001b[0midx\u001b[0m\u001b[0;34m)\u001b[0m\u001b[0;34m\u001b[0m\u001b[0;34m\u001b[0m\u001b[0m\n\u001b[0;32m----> 7\u001b[0;31m     \u001b[0mplt\u001b[0m\u001b[0;34m.\u001b[0m\u001b[0mimshow\u001b[0m\u001b[0;34m(\u001b[0m\u001b[0mimgs\u001b[0m\u001b[0;34m[\u001b[0m\u001b[0midx\u001b[0m\u001b[0;34m]\u001b[0m\u001b[0;34m)\u001b[0m\u001b[0;34m\u001b[0m\u001b[0;34m\u001b[0m\u001b[0m\n\u001b[0m\u001b[1;32m      8\u001b[0m     \u001b[0mplt\u001b[0m\u001b[0;34m.\u001b[0m\u001b[0mtitle\u001b[0m\u001b[0;34m(\u001b[0m\u001b[0mlabels\u001b[0m\u001b[0;34m[\u001b[0m\u001b[0midx\u001b[0m\u001b[0;34m]\u001b[0m\u001b[0;34m)\u001b[0m\u001b[0;34m\u001b[0m\u001b[0;34m\u001b[0m\u001b[0m\n",
      "\u001b[0;32m~/anaconda3/envs/Keras-tf/lib/python3.6/site-packages/matplotlib/pyplot.py\u001b[0m in \u001b[0;36mimshow\u001b[0;34m(X, cmap, norm, aspect, interpolation, alpha, vmin, vmax, origin, extent, shape, filternorm, filterrad, imlim, resample, url, data, **kwargs)\u001b[0m\n\u001b[1;32m   2699\u001b[0m         \u001b[0mfilternorm\u001b[0m\u001b[0;34m=\u001b[0m\u001b[0mfilternorm\u001b[0m\u001b[0;34m,\u001b[0m \u001b[0mfilterrad\u001b[0m\u001b[0;34m=\u001b[0m\u001b[0mfilterrad\u001b[0m\u001b[0;34m,\u001b[0m \u001b[0mimlim\u001b[0m\u001b[0;34m=\u001b[0m\u001b[0mimlim\u001b[0m\u001b[0;34m,\u001b[0m\u001b[0;34m\u001b[0m\u001b[0;34m\u001b[0m\u001b[0m\n\u001b[1;32m   2700\u001b[0m         resample=resample, url=url, **({\"data\": data} if data is not\n\u001b[0;32m-> 2701\u001b[0;31m         None else {}), **kwargs)\n\u001b[0m\u001b[1;32m   2702\u001b[0m     \u001b[0msci\u001b[0m\u001b[0;34m(\u001b[0m\u001b[0m__ret\u001b[0m\u001b[0;34m)\u001b[0m\u001b[0;34m\u001b[0m\u001b[0;34m\u001b[0m\u001b[0m\n\u001b[1;32m   2703\u001b[0m     \u001b[0;32mreturn\u001b[0m \u001b[0m__ret\u001b[0m\u001b[0;34m\u001b[0m\u001b[0;34m\u001b[0m\u001b[0m\n",
      "\u001b[0;32m~/anaconda3/envs/Keras-tf/lib/python3.6/site-packages/matplotlib/__init__.py\u001b[0m in \u001b[0;36minner\u001b[0;34m(ax, data, *args, **kwargs)\u001b[0m\n\u001b[1;32m   1803\u001b[0m                         \u001b[0;34m\"the Matplotlib list!)\"\u001b[0m \u001b[0;34m%\u001b[0m \u001b[0;34m(\u001b[0m\u001b[0mlabel_namer\u001b[0m\u001b[0;34m,\u001b[0m \u001b[0mfunc\u001b[0m\u001b[0;34m.\u001b[0m\u001b[0m__name__\u001b[0m\u001b[0;34m)\u001b[0m\u001b[0;34m,\u001b[0m\u001b[0;34m\u001b[0m\u001b[0;34m\u001b[0m\u001b[0m\n\u001b[1;32m   1804\u001b[0m                         RuntimeWarning, stacklevel=2)\n\u001b[0;32m-> 1805\u001b[0;31m             \u001b[0;32mreturn\u001b[0m \u001b[0mfunc\u001b[0m\u001b[0;34m(\u001b[0m\u001b[0max\u001b[0m\u001b[0;34m,\u001b[0m \u001b[0;34m*\u001b[0m\u001b[0margs\u001b[0m\u001b[0;34m,\u001b[0m \u001b[0;34m**\u001b[0m\u001b[0mkwargs\u001b[0m\u001b[0;34m)\u001b[0m\u001b[0;34m\u001b[0m\u001b[0;34m\u001b[0m\u001b[0m\n\u001b[0m\u001b[1;32m   1806\u001b[0m \u001b[0;34m\u001b[0m\u001b[0m\n\u001b[1;32m   1807\u001b[0m         inner.__doc__ = _add_data_doc(inner.__doc__,\n",
      "\u001b[0;32m~/anaconda3/envs/Keras-tf/lib/python3.6/site-packages/matplotlib/axes/_axes.py\u001b[0m in \u001b[0;36mimshow\u001b[0;34m(self, X, cmap, norm, aspect, interpolation, alpha, vmin, vmax, origin, extent, shape, filternorm, filterrad, imlim, resample, url, **kwargs)\u001b[0m\n\u001b[1;32m   5481\u001b[0m                               resample=resample, **kwargs)\n\u001b[1;32m   5482\u001b[0m \u001b[0;34m\u001b[0m\u001b[0m\n\u001b[0;32m-> 5483\u001b[0;31m         \u001b[0mim\u001b[0m\u001b[0;34m.\u001b[0m\u001b[0mset_data\u001b[0m\u001b[0;34m(\u001b[0m\u001b[0mX\u001b[0m\u001b[0;34m)\u001b[0m\u001b[0;34m\u001b[0m\u001b[0;34m\u001b[0m\u001b[0m\n\u001b[0m\u001b[1;32m   5484\u001b[0m         \u001b[0mim\u001b[0m\u001b[0;34m.\u001b[0m\u001b[0mset_alpha\u001b[0m\u001b[0;34m(\u001b[0m\u001b[0malpha\u001b[0m\u001b[0;34m)\u001b[0m\u001b[0;34m\u001b[0m\u001b[0;34m\u001b[0m\u001b[0m\n\u001b[1;32m   5485\u001b[0m         \u001b[0;32mif\u001b[0m \u001b[0mim\u001b[0m\u001b[0;34m.\u001b[0m\u001b[0mget_clip_path\u001b[0m\u001b[0;34m(\u001b[0m\u001b[0;34m)\u001b[0m \u001b[0;32mis\u001b[0m \u001b[0;32mNone\u001b[0m\u001b[0;34m:\u001b[0m\u001b[0;34m\u001b[0m\u001b[0;34m\u001b[0m\u001b[0m\n",
      "\u001b[0;32m~/anaconda3/envs/Keras-tf/lib/python3.6/site-packages/matplotlib/image.py\u001b[0m in \u001b[0;36mset_data\u001b[0;34m(self, A)\u001b[0m\n\u001b[1;32m    644\u001b[0m         if not (self._A.ndim == 2\n\u001b[1;32m    645\u001b[0m                 or self._A.ndim == 3 and self._A.shape[-1] in [3, 4]):\n\u001b[0;32m--> 646\u001b[0;31m             \u001b[0;32mraise\u001b[0m \u001b[0mTypeError\u001b[0m\u001b[0;34m(\u001b[0m\u001b[0;34m\"Invalid dimensions for image data\"\u001b[0m\u001b[0;34m)\u001b[0m\u001b[0;34m\u001b[0m\u001b[0;34m\u001b[0m\u001b[0m\n\u001b[0m\u001b[1;32m    647\u001b[0m \u001b[0;34m\u001b[0m\u001b[0m\n\u001b[1;32m    648\u001b[0m         \u001b[0;32mif\u001b[0m \u001b[0mself\u001b[0m\u001b[0;34m.\u001b[0m\u001b[0m_A\u001b[0m\u001b[0;34m.\u001b[0m\u001b[0mndim\u001b[0m \u001b[0;34m==\u001b[0m \u001b[0;36m3\u001b[0m\u001b[0;34m:\u001b[0m\u001b[0;34m\u001b[0m\u001b[0;34m\u001b[0m\u001b[0m\n",
      "\u001b[0;31mTypeError\u001b[0m: Invalid dimensions for image data"
     ]
    },
    {
     "data": {
      "image/png": "[encoded data removed]",
      "text/plain": [
       "<Figure size 432x288 with 1 Axes>"
      ]
     },
     "metadata": {
      "needs_background": "light"
     },
     "output_type": "display_data"
    }
   ],
   "source": [
    " plt_label(SVNH_train,to_categorical(SVNH_train_label),target=2)"
   ]
  },
  {
   "cell_type": "code",
   "execution_count": 186,
   "metadata": {
    "scrolled": false
   },
   "outputs": [
    {
     "data": {
      "image/png": "[encoded data removed]",
      "text/plain": [
       "<Figure size 432x288 with 1 Axes>"
      ]
     },
     "metadata": {
      "needs_background": "light"
     },
     "output_type": "display_data"
    }
   ],
   "source": [
    "show_random(SVNH_train,to_categorical(SVNH_train_label),55)"
   ]
  },
  {
   "cell_type": "code",
   "execution_count": 15,
   "metadata": {},
   "outputs": [],
   "source": [
    "# Resize/Center Crop the image\n",
    "SVNH_train_fil=SVNH_train_fil[:,2:30,2:30,:]\n",
    "SVNH_test_fil=SVNH_test_fil[:,2:30,2:30,:]\n"
   ]
  },
  {
   "cell_type": "code",
   "execution_count": 16,
   "metadata": {},
   "outputs": [
    {
     "name": "stdout",
     "output_type": "stream",
     "text": [
      "Training Data (45349, 28, 28, 3) Trainning Label (45349, 5)\n",
      "Test Data (16397, 28, 28, 3) Test Label (16397, 5)\n"
     ]
    }
   ],
   "source": [
    "print(\"Training Data\", SVNH_train_fil.shape,\"Trainning Label\",SVNH_train_label_fil_cat.shape)\n",
    "print(\"Test Data\", SVNH_test_fil.shape,\"Test Label\",SVNH_test_label_fil_cat.shape)"
   ]
  },
  {
   "cell_type": "code",
   "execution_count": 42,
   "metadata": {},
   "outputs": [],
   "source": [
    "# Visualise random data from MNIST and SVNH\n",
    "import matplotlib.pyplot as plt \n",
    "%matplotlib inline\n",
    "\n",
    "def show_random(imgs,lab,idx=0,mnist=False):\n",
    "    plt.imshow(imgs[idx])\n",
    "    if mnist:\n",
    "        plt.title(np.argmax(lab,axis=1)[idx]+5)\n",
    "    else:\n",
    "        plt.title(np.argmax(lab,axis=1)[idx])\n",
    "\n",
    "    "
   ]
  },
  {
   "cell_type": "code",
   "execution_count": 48,
   "metadata": {},
   "outputs": [
    {
     "data": {
      "image/png": "[encoded data removed]",
      "text/plain": [
       "<Figure size 432x288 with 1 Axes>"
      ]
     },
     "metadata": {
      "needs_background": "light"
     },
     "output_type": "display_data"
    }
   ],
   "source": [
    "show_random(X_train_fil,Y_train_fil_cat,656,mnist=True)"
   ]
  },
  {
   "cell_type": "markdown",
   "metadata": {},
   "source": [
    "# Use Lenet Architecture and Perform Domain Transfer Learning\n",
    "# between SVNH 0-4 to MNIST 5-9\n",
    "\n"
   ]
  },
  {
   "cell_type": "code",
   "execution_count": 17,
   "metadata": {},
   "outputs": [
    {
     "data": {
      "text/html": [
       "<img src=\"https://world4jason.gitbooks.io/research-log/content/deepLearning/CNN/img/lenet.png\"/>"
      ],
      "text/plain": [
       "<IPython.core.display.Image object>"
      ]
     },
     "execution_count": 17,
     "metadata": {},
     "output_type": "execute_result"
    }
   ],
   "source": [
    "Image(url='https://world4jason.gitbooks.io/research-log/content/deepLearning/CNN/img/lenet.png')"
   ]
  },
  {
   "cell_type": "code",
   "execution_count": 18,
   "metadata": {},
   "outputs": [
    {
     "name": "stdout",
     "output_type": "stream",
     "text": [
      "_________________________________________________________________\n",
      "Layer (type)                 Output Shape              Param #   \n",
      "=================================================================\n",
      "conv2d_1 (Conv2D)            (None, 24, 24, 6)         456       \n",
      "_________________________________________________________________\n",
      "max_pooling2d_1 (MaxPooling2 (None, 12, 12, 6)         0         \n",
      "_________________________________________________________________\n",
      "conv2d_2 (Conv2D)            (None, 8, 8, 16)          2416      \n",
      "_________________________________________________________________\n",
      "max_pooling2d_2 (MaxPooling2 (None, 4, 4, 16)          0         \n",
      "_________________________________________________________________\n",
      "flatten_1 (Flatten)          (None, 256)               0         \n",
      "_________________________________________________________________\n",
      "dense_1 (Dense)              (None, 120)               30840     \n",
      "_________________________________________________________________\n",
      "dense_2 (Dense)              (None, 84)                10164     \n",
      "_________________________________________________________________\n",
      "dense_3 (Dense)              (None, 5)                 425       \n",
      "=================================================================\n",
      "Total params: 44,301\n",
      "Trainable params: 44,301\n",
      "Non-trainable params: 0\n",
      "_________________________________________________________________\n"
     ]
    }
   ],
   "source": [
    "Base_Model=Sequential()\n",
    "Base_Model.add(Conv2D(batch_input_shape=(None,28,28,3),kernel_size=[5,5],filters=6))\n",
    "Base_Model.add(MaxPool2D(pool_size=2, strides=2, padding='valid'))\n",
    "Base_Model.add(Conv2D(kernel_size=[5,5],filters=16))\n",
    "Base_Model.add(MaxPool2D(pool_size=2,strides=2,padding='valid'))\n",
    "Base_Model.add(Flatten())\n",
    "Base_Model.add(Dense(units=120,activation='sigmoid'))\n",
    "Base_Model.add(Dense(units=84,activation='sigmoid'))\n",
    "Base_Model.add(Dense(units=num_classes,activation='softmax'))\n",
    "\n",
    "\n",
    "Base_Model.summary()"
   ]
  },
  {
   "cell_type": "code",
   "execution_count": 13,
   "metadata": {},
   "outputs": [],
   "source": [
    "adam=keras.optimizers.Adam(lr=0.0001, beta_1=0.75, beta_2=0.99, epsilon=None, decay=0.0)\n"
   ]
  },
  {
   "cell_type": "markdown",
   "metadata": {},
   "source": [
    "# Tensorboard Logging - Run only if required"
   ]
  },
  {
   "cell_type": "code",
   "execution_count": 14,
   "metadata": {},
   "outputs": [],
   "source": [
    "tbCallBack = keras.callbacks.TensorBoard(log_dir='./Graph', histogram_freq=0, write_graph=True, write_images=True)\n"
   ]
  },
  {
   "cell_type": "markdown",
   "metadata": {},
   "source": [
    "# Model Trainning"
   ]
  },
  {
   "cell_type": "code",
   "execution_count": 15,
   "metadata": {},
   "outputs": [],
   "source": [
    "Base_Model.compile(optimizer=adam,loss='categorical_crossentropy',metrics=['accuracy'])"
   ]
  },
  {
   "cell_type": "code",
   "execution_count": 17,
   "metadata": {},
   "outputs": [
    {
     "name": "stdout",
     "output_type": "stream",
     "text": [
      "Train on 45349 samples, validate on 16397 samples\n",
      "Epoch 1/10\n",
      "45349/45349 [==============================] - 56s 1ms/step - loss: 1.2592 - acc: 0.5545 - val_loss: 1.1123 - val_acc: 0.6563A: 1s - l\n",
      "Epoch 2/10\n",
      "45349/45349 [==============================] - 52s 1ms/step - loss: 0.9406 - acc: 0.7142 - val_loss: 0.8446 - val_acc: 0.7403A: 1s - l\n",
      "Epoch 3/10\n",
      "45349/45349 [==============================] - 48s 1ms/step - loss: 0.6990 - acc: 0.7909 - val_loss: 0.6481 - val_acc: 0.7936\n",
      "Epoch 4/10\n",
      "45349/45349 [==============================] - 46s 1ms/step - loss: 0.5550 - acc: 0.8257 - val_loss: 0.5446 - val_acc: 0.8251\n",
      "Epoch 5/10\n",
      "45349/45349 [==============================] - 48s 1ms/step - loss: 0.4720 - acc: 0.8502 - val_loss: 0.4751 - val_acc: 0.8467\n",
      "Epoch 6/10\n",
      "45349/45349 [==============================] - 50s 1ms/step - loss: 0.4161 - acc: 0.8689 - val_loss: 0.4388 - val_acc: 0.8577\n",
      "Epoch 7/10\n",
      "45349/45349 [==============================] - 46s 1ms/step - loss: 0.3782 - acc: 0.8785 - val_loss: 0.4062 - val_acc: 0.8673\n",
      "Epoch 8/10\n",
      "45349/45349 [==============================] - 52s 1ms/step - loss: 0.3491 - acc: 0.8877 - val_loss: 0.4068 - val_acc: 0.8665\n",
      "Epoch 9/10\n",
      "45349/45349 [==============================] - 58s 1ms/step - loss: 0.3267 - acc: 0.8954 - val_loss: 0.3921 - val_acc: 0.8709\n",
      "Epoch 10/10\n",
      "45349/45349 [==============================] - 56s 1ms/step - loss: 0.3087 - acc: 0.9019 - val_loss: 0.3705 - val_acc: 0.8798\n"
     ]
    },
    {
     "data": {
      "text/plain": [
       "<keras.callbacks.History at 0x1c6c40f0>"
      ]
     },
     "execution_count": 17,
     "metadata": {},
     "output_type": "execute_result"
    }
   ],
   "source": [
    "Base_Model.fit(SVNH_train_fil, SVNH_train_label_fil_cat,batch_size=64,epochs=10,verbose=1,validation_data=(SVNH_test_fil, SVNH_test_label_fil_cat),callbacks=[tbCallBack])"
   ]
  },
  {
   "cell_type": "markdown",
   "metadata": {},
   "source": [
    "# Six different methods : \n",
    "* (i) Target only: the model is trained on D2 from scratch; \n",
    "* (ii) Fine-tune: the model is pretrained on D1 and fine-tuned on D2;\n",
    "* (iii) Matching networks [70]: we first pretrain the model on D3, then use D2 as the support set in the matching networks; \n",
    "* (iv) Fine-tuned matching networks: same as baseline iii, except that for each k the model is fine-tuned on D2 with 5-way (k 􀀀 1)-shot learning: k 􀀀 1 examples in each class are randomly selected as the support set, and the last example in each class is used as the query set; \n",
    "* (v) Fine-tune + adversarial: in addition to baseline ii, the model is also trained on D1 and D3 with a domain adversarial loss; \n",
    "* (vi.) Full model: fine-tune the model with the proposed multi-layer domain adversarial loss."
   ]
  },
  {
   "cell_type": "code",
   "execution_count": 18,
   "metadata": {},
   "outputs": [],
   "source": [
    "# Matching networks Architecture\n",
    "from keras.layers."
   ]
  },
  {
   "cell_type": "code",
   "execution_count": null,
   "metadata": {},
   "outputs": [],
   "source": []
  }
 ],
 "metadata": {
  "kernelspec": {
   "display_name": "Keras-tf",
   "language": "python",
   "name": "keras-tf"
  },
  "language_info": {
   "codemirror_mode": {
    "name": "ipython",
    "version": 3
   },
   "file_extension": ".py",
   "mimetype": "text/x-python",
   "name": "python",
   "nbconvert_exporter": "python",
   "pygments_lexer": "ipython3",
   "version": "3.6.7"
  }
 },
 "nbformat": 4,
 "nbformat_minor": 2
}
