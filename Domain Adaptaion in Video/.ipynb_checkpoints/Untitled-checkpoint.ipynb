{
 "cells": [
  {
   "cell_type": "code",
   "execution_count": 1,
   "metadata": {},
   "outputs": [],
   "source": [
    "import tensorflow as tf\n",
    "\n",
    "config = tf.ConfigProto()\n",
    "config.gpu_options.allow_growth=True\n",
    "sess = tf.Session(config=config)"
   ]
  },
  {
   "cell_type": "code",
   "execution_count": 1,
   "metadata": {},
   "outputs": [
    {
     "name": "stderr",
     "output_type": "stream",
     "text": [
      "/home/gokkulnath/anaconda3/envs/Keras/lib/python3.6/site-packages/h5py/__init__.py:36: FutureWarning: Conversion of the second argument of issubdtype from `float` to `np.floating` is deprecated. In future, it will be treated as `np.float64 == np.dtype(float).type`.\n",
      "  from ._conv import register_converters as _register_converters\n",
      "Using TensorFlow backend.\n"
     ]
    }
   ],
   "source": [
    "import keras\n",
    "from keras.models import Sequential,Model\n",
    "from keras.datasets import mnist\n",
    "from keras.optimizers import Adam\n",
    "from keras.layers import Dense,Conv2D,MaxPool2D,Dropout,BatchNormalization,Activation,Merge,Flatten\n",
    "from keras.initializers import TruncatedNormal\n",
    "from keras.losses import categorical_crossentropy\n",
    "from keras.preprocessing import image\n",
    "from keras.utils import to_categorical\n",
    "\n",
    "\n",
    "import numpy as np\n",
    "from scipy.io import loadmat"
   ]
  },
  {
   "cell_type": "markdown",
   "metadata": {},
   "source": [
    "#Use Lenet Architecture and Perform Domain Transfer Learning between SVNH 0-4 to MNIST 5-9\n",
    "\n",
    "Base_Model=Sequential()\n",
    "Base_Model.add(Conv2D(batch_input_shape=(None,28,28,3),kernel_size=[5,5],filters=6))\n",
    "Base_Model.add(MaxPool2D(pool_size=2, strides=2, padding='valid'))\n",
    "Base_Model.add(Conv2D(kernel_size=[5,5],filters=16))\n",
    "Base_Model.add(MaxPool2D(pool_size=2,strides=2,padding='valid'))\n",
    "Base_Model.add(Flatten())\n",
    "Base_Model.add(Dense(units=120,activation='sigmoid'))\n",
    "Base_Model.add(Dense(units=84,activation='sigmoid'))\n",
    "Base_Model.add(Dense(units=10,activation='softmax'))"
   ]
  },
  {
   "cell_type": "code",
   "execution_count": 2,
   "metadata": {},
   "outputs": [
    {
     "name": "stdout",
     "output_type": "stream",
     "text": [
      "__________________________________________________________________________________________________\n",
      "Layer (type)                    Output Shape         Param #     Connected to                     \n",
      "==================================================================================================\n",
      "visible2 (InputLayer)           (None, 28, 28, 3)    0                                            \n",
      "__________________________________________________________________________________________________\n",
      "visible3 (InputLayer)           (None, 28, 28, 3)    0                                            \n",
      "__________________________________________________________________________________________________\n",
      "conv2d_3 (Conv2D)               (None, 24, 24, 6)    456         visible2[0][0]                   \n",
      "__________________________________________________________________________________________________\n",
      "conv2d_5 (Conv2D)               (None, 24, 24, 6)    456         visible3[0][0]                   \n",
      "__________________________________________________________________________________________________\n",
      "max_pooling2d_3 (MaxPooling2D)  (None, 12, 12, 6)    0           conv2d_3[0][0]                   \n",
      "__________________________________________________________________________________________________\n",
      "max_pooling2d_5 (MaxPooling2D)  (None, 12, 12, 6)    0           conv2d_5[0][0]                   \n",
      "__________________________________________________________________________________________________\n",
      "conv2d_4 (Conv2D)               (None, 8, 8, 6)      906         max_pooling2d_3[0][0]            \n",
      "__________________________________________________________________________________________________\n",
      "conv2d_6 (Conv2D)               (None, 8, 8, 6)      906         max_pooling2d_5[0][0]            \n",
      "__________________________________________________________________________________________________\n",
      "max_pooling2d_4 (MaxPooling2D)  (None, 4, 4, 6)      0           conv2d_4[0][0]                   \n",
      "__________________________________________________________________________________________________\n",
      "max_pooling2d_6 (MaxPooling2D)  (None, 4, 4, 6)      0           conv2d_6[0][0]                   \n",
      "__________________________________________________________________________________________________\n",
      "flatten_2 (Flatten)             (None, 96)           0           max_pooling2d_4[0][0]            \n",
      "__________________________________________________________________________________________________\n",
      "flatten_3 (Flatten)             (None, 96)           0           max_pooling2d_6[0][0]            \n",
      "__________________________________________________________________________________________________\n",
      "dense_3 (Dense)                 (None, 120)          11640       flatten_2[0][0]                  \n",
      "__________________________________________________________________________________________________\n",
      "dense_5 (Dense)                 (None, 120)          11640       flatten_3[0][0]                  \n",
      "__________________________________________________________________________________________________\n",
      "dense_4 (Dense)                 (None, 84)           10164       dense_3[0][0]                    \n",
      "__________________________________________________________________________________________________\n",
      "dense_6 (Dense)                 (None, 84)           10164       dense_5[0][0]                    \n",
      "__________________________________________________________________________________________________\n",
      "dense_7 (Dense)                 (None, 10)           850         dense_4[0][0]                    \n",
      "__________________________________________________________________________________________________\n",
      "dense_8 (Dense)                 (None, 10)           850         dense_6[0][0]                    \n",
      "==================================================================================================\n",
      "Total params: 48,032\n",
      "Trainable params: 48,032\n",
      "Non-trainable params: 0\n",
      "__________________________________________________________________________________________________\n",
      "None\n"
     ]
    }
   ],
   "source": [
    "from keras.utils import plot_model\n",
    "from keras.models import Model\n",
    "from keras.layers import Input\n",
    "from keras.layers import Dense\n",
    "from keras.layers import Flatten\n",
    "from keras.layers.convolutional import Conv2D\n",
    "from keras.layers.pooling import MaxPooling2D\n",
    "from keras.layers.merge import concatenate\n",
    "from keras.layers import merge\n",
    "\n",
    "\n",
    "# first input model - SVNH - Pretrained\n",
    "visible1=Input(shape=(28,28,3),name='visible1')\n",
    "conv11=Conv2D(kernel_size=[5,5],filters=6,activation='sigmoid')(visible1)\n",
    "pool11=MaxPooling2D(pool_size=(2, 2))(conv11)\n",
    "conv12=Conv2D(kernel_size=[5,5],filters=6,activation='sigmoid')(pool11)\n",
    "pool12=MaxPooling2D(pool_size=(2, 2))(conv12)\n",
    "flat1=Flatten()(pool12)\n",
    "dense11=Dense(units=120,activation='sigmoid')(flat1)\n",
    "dense12=Dense(units=84,activation='sigmoid')(dense11)\n",
    "\n",
    "\n",
    "\n",
    "# second input model - Without Label Unsupervised\n",
    "visible2=Input(shape=(28,28,3),name='visible2')\n",
    "conv21=Conv2D(kernel_size=[5,5],filters=6,activation='sigmoid')(visible2)\n",
    "pool21=MaxPooling2D(pool_size=(2, 2))(conv21)\n",
    "conv22=Conv2D(kernel_size=[5,5],filters=6,activation='sigmoid')(pool21)\n",
    "pool22=MaxPooling2D(pool_size=(2, 2))(conv22)\n",
    "flat2=Flatten()(pool22)\n",
    "dense21=Dense(units=120,activation='sigmoid')(flat2)\n",
    "dense22=Dense(units=84,activation='sigmoid')(dense21)\n",
    "\n",
    "# Third input model - With Label - Supervised\n",
    "\n",
    "visible3=Input(shape=(28,28,3),name='visible3')\n",
    "\n",
    "conv31=Conv2D(kernel_size=[5,5],filters=6,activation='sigmoid')(visible3)\n",
    "pool31=MaxPooling2D(pool_size=(2, 2))(conv31)\n",
    "conv32=Conv2D(kernel_size=[5,5],filters=6,activation='sigmoid')(pool31)\n",
    "pool32=MaxPooling2D(pool_size=(2, 2))(conv32)\n",
    "flat3=Flatten()(pool32)\n",
    "dense31=Dense(units=120,activation='sigmoid')(flat3)\n",
    "dense32=Dense(units=84,activation='sigmoid')(dense31)\n",
    "\n",
    "\n",
    "\n",
    "\n",
    "\n",
    "\n",
    "#Multi -Layer Domain Transfer\n",
    "\n",
    "mldt1=concatenate([flat1, flat2])\n",
    "mldt2=concatenate([dense11, dense21,mldt1])\n",
    "mldt3=concatenate([dense12, dense22,mldt2])\n",
    "\n",
    "\n",
    "# merge input models\n",
    "merge_pairwise_similarity = concatenate([dense12, dense22,dense32])\n",
    "\n",
    "# Supervised loss 1 \n",
    "\n",
    "out1 = Dense(units=10,activation='softmax')(dense22)\n",
    "out2 = Dense(units=10,activation='softmax')(dense32)\n",
    "\n",
    "model = Model(inputs=[visible1,visible2,visible3], outputs=[out1,out2])\n",
    "# summarize layers\n",
    "print(model.summary())\n",
    "# plot graph\n",
    "plot_model(model, to_file='multiple_inputs.png')\n"
   ]
  },
  {
   "cell_type": "code",
   "execution_count": null,
   "metadata": {
    "collapsed": true
   },
   "outputs": [],
   "source": [
    "import pydot,graphviz"
   ]
  },
  {
   "cell_type": "code",
   "execution_count": null,
   "metadata": {},
   "outputs": [],
   "source": [
    "from IPython.display import Image, display, SVG\n",
    "from keras.utils.vis_utils import model_to_dot\n",
    "\n",
    "# Show the model in ipython notebook\n",
    "figure = SVG(model_to_dot(model, show_shapes=True).create(prog='dot', format='svg'))\n",
    "display(figure)\n",
    "\n",
    "# Save the model as png file\n",
    "from keras.utils.vis_utils import plot_model\n",
    "plot_model(model, to_file='model11.png', show_shapes=True)"
   ]
  },
  {
   "cell_type": "code",
   "execution_count": null,
   "metadata": {
    "collapsed": true
   },
   "outputs": [],
   "source": []
  },
  {
   "cell_type": "code",
   "execution_count": null,
   "metadata": {},
   "outputs": [],
   "source": [
    "from keras.layers import Input, Dense\n",
    "from keras.models import Model\n",
    "\n",
    "# This returns a tensor\n",
    "inputs = Input(shape=(784,))\n",
    "inputs1 = Input(shape=(784,))\n",
    "inputs2 = Input(shape=(784,))\n",
    "\n",
    "# a layer instance is callable on a tensor, and returns a tensor\n",
    "x = Dense(64, activation='relu')(inputs)\n",
    "x1 = Dense(64, activation='relu')(inputs1)\n",
    "x2 = Dense(64, activation='relu')(inputs2)\n",
    "\n",
    "middle=concatenate([x, x1,x2])\n",
    "\n",
    "predictions = Dense(10, activation='softmax')(middle)\n",
    "\n",
    "# This creates a model that includes\n",
    "# the Input layer and three Dense layers\n",
    "model = Model(inputs=[inputs,inputs1,inputs2], outputs=predictions)\n",
    "model.compile(optimizer='rmsprop',\n",
    "              loss='categorical_crossentropy',\n",
    "              metrics=['accuracy'])\n",
    "model.summary()"
   ]
  },
  {
   "cell_type": "code",
   "execution_count": null,
   "metadata": {
    "collapsed": true
   },
   "outputs": [],
   "source": []
  }
 ],
 "metadata": {
  "kernelspec": {
   "display_name": "keras-tf",
   "language": "python",
   "name": "keras-tf"
  },
  "language_info": {
   "codemirror_mode": {
    "name": "ipython",
    "version": 3
   },
   "file_extension": ".py",
   "mimetype": "text/x-python",
   "name": "python",
   "nbconvert_exporter": "python",
   "pygments_lexer": "ipython3",
   "version": "3.6.5"
  }
 },
 "nbformat": 4,
 "nbformat_minor": 2
}
