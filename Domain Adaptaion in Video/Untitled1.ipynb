{
 "cells": [
  {
   "cell_type": "code",
   "execution_count": 1,
   "metadata": {},
   "outputs": [
    {
     "name": "stderr",
     "output_type": "stream",
     "text": [
      "/home/gokkulnath/anaconda3/envs/Keras/lib/python3.6/site-packages/h5py/__init__.py:36: FutureWarning: Conversion of the second argument of issubdtype from `float` to `np.floating` is deprecated. In future, it will be treated as `np.float64 == np.dtype(float).type`.\n",
      "  from ._conv import register_converters as _register_converters\n"
     ]
    }
   ],
   "source": [
    "import tensorflow as tf\n",
    "\n",
    "config = tf.ConfigProto()\n",
    "config.gpu_options.allow_growth=True\n",
    "sess = tf.Session(config=config)"
   ]
  },
  {
   "cell_type": "code",
   "execution_count": 2,
   "metadata": {
    "scrolled": true
   },
   "outputs": [
    {
     "name": "stderr",
     "output_type": "stream",
     "text": [
      "Using TensorFlow backend.\n"
     ]
    }
   ],
   "source": [
    "import keras\n",
    "from keras.models import Sequential,Model\n",
    "from keras.datasets import mnist\n",
    "from keras.optimizers import Adam\n",
    "from keras.layers import Dense,Conv2D,MaxPool2D,Dropout,BatchNormalization,Activation,Merge,Flatten\n",
    "from keras.initializers import TruncatedNormal\n",
    "from keras.losses import categorical_crossentropy\n",
    "from keras.preprocessing import image\n",
    "from keras.utils import to_categorical\n",
    "\n",
    "\n",
    "import numpy as np\n",
    "from scipy.io import loadmat\n",
    "import h5py"
   ]
  },
  {
   "cell_type": "code",
   "execution_count": 3,
   "metadata": {
    "collapsed": true
   },
   "outputs": [],
   "source": [
    "# Mnist Data Preparation :\n",
    "\n",
    "(X_train,Y_train),(X_test,Y_test)=mnist.load_data()"
   ]
  },
  {
   "cell_type": "code",
   "execution_count": 4,
   "metadata": {
    "collapsed": true
   },
   "outputs": [],
   "source": [
    "# Filter of Data with Labels 5-9\n",
    "X_train_fil=[]\n",
    "Y_train_fil=[]\n",
    "for i in range(len(X_train)):\n",
    "    if Y_train[i]>=5 and Y_train[i]<=9:\n",
    "        X_train_fil.append(X_train[i])\n",
    "        Y_train_fil.append(Y_train[i])\n",
    "        "
   ]
  },
  {
   "cell_type": "code",
   "execution_count": 5,
   "metadata": {
    "collapsed": true
   },
   "outputs": [],
   "source": [
    "X_test_fil=[]\n",
    "Y_test_fil=[]\n",
    "for i in range(len(X_test)):\n",
    "    if Y_test[i]>=5 and Y_test[i]<=9:\n",
    "        X_test_fil.append(X_test[i])\n",
    "        Y_test_fil.append(Y_test[i])\n",
    "        "
   ]
  },
  {
   "cell_type": "code",
   "execution_count": 6,
   "metadata": {
    "collapsed": true
   },
   "outputs": [],
   "source": [
    "X_train_fil=np.asarray(X_train_fil)\n",
    "Y_train_fil=np.asarray(Y_train_fil)\n",
    "\n",
    "X_test_fil=np.asarray(X_test_fil)\n",
    "Y_test_fil=np.asarray(Y_test_fil)\n",
    "\n",
    "# Subtact to make 5 neurons at the last layer\n",
    "Y_train_fil1=Y_train_fil-5\n",
    "Y_test_fil1=Y_test_fil-5\n",
    "\n",
    "\n",
    "Y_train_fil_cat=to_categorical(Y_train_fil1)\n",
    "Y_test_fil_cat=to_categorical(Y_train_fil1)"
   ]
  },
  {
   "cell_type": "code",
   "execution_count": 7,
   "metadata": {
    "scrolled": true
   },
   "outputs": [
    {
     "name": "stdout",
     "output_type": "stream",
     "text": [
      "Training Data (29404, 28, 28) Trainning Label (29404, 5)\n",
      "Test Data (4861, 28, 28) Test Label (29404, 5)\n"
     ]
    }
   ],
   "source": [
    "print(\"Training Data\", X_train_fil.shape,\"Trainning Label\",Y_train_fil_cat.shape)\n",
    "print(\"Test Data\", X_test_fil.shape,\"Test Label\",Y_test_fil_cat.shape)\n"
   ]
  },
  {
   "cell_type": "code",
   "execution_count": 8,
   "metadata": {
    "collapsed": true
   },
   "outputs": [],
   "source": [
    "PathtoSVNH='data/SVNH/'\n",
    "SVNH_tr=loadmat(PathtoSVNH+'train_32x32.mat')\n",
    "SVNH_tst=loadmat(PathtoSVNH+'test_32x32.mat')"
   ]
  },
  {
   "cell_type": "code",
   "execution_count": 9,
   "metadata": {
    "collapsed": true,
    "scrolled": true
   },
   "outputs": [],
   "source": [
    "SVNH_train=SVNH_tr['X']\n",
    "SVNH_train_label=SVNH_tr['y']\n",
    "SVNH_test=SVNH_tst['X']\n",
    "SVNH_test_label=SVNH_tst['y']\n",
    "\n",
    "SVNH_train=SVNH_train.swapaxes(0,3).swapaxes(2,3)\n",
    "SVNH_test=SVNH_test.swapaxes(0,3).swapaxes(2,3)\n",
    "\n",
    "SVNH_train_label[SVNH_train_label ==10] = 0\n",
    "\n",
    "SVNH_test_label[SVNH_test_label ==10] = 0\n",
    "\n",
    "SVNH_train_label_cat=to_categorical(SVNH_train_label)\n",
    "\n",
    "SVNH_test_label_cat=to_categorical(SVNH_test_label)"
   ]
  },
  {
   "cell_type": "code",
   "execution_count": 10,
   "metadata": {},
   "outputs": [
    {
     "name": "stdout",
     "output_type": "stream",
     "text": [
      "Training Data (73257, 32, 32, 3) Trainning Label (73257, 10)\n",
      "Test Data (26032, 32, 32, 3) Test Label (26032, 10)\n"
     ]
    }
   ],
   "source": [
    "print(\"Training Data\", SVNH_train.shape,\"Trainning Label\",SVNH_train_label_cat.shape)\n",
    "print(\"Test Data\", SVNH_test.shape,\"Test Label\",SVNH_test_label_cat.shape)\n"
   ]
  },
  {
   "cell_type": "code",
   "execution_count": 14,
   "metadata": {
    "collapsed": true
   },
   "outputs": [],
   "source": [
    "SVNH_test_fil=[]\n",
    "SVNH_test_label_fil=[]\n",
    "for i in range(SVNH_test.shape[0]):\n",
    "    if (SVNH_test_label[i])>=0 and (SVNH_test_label[i])<=4:\n",
    "        SVNH_test_fil.append(SVNH_test[i,:,:,:])\n",
    "        SVNH_test_label_fil.append(SVNH_test_label[i][0])\n",
    "\n",
    "SVNH_train_fil=[]\n",
    "SVNH_train_label_fil=[]\n",
    "for i in range(SVNH_train.shape[0]):\n",
    "    if ((SVNH_train_label[i][0])>=0 and (SVNH_train_label[i][0])<=4):\n",
    "        SVNH_train_fil.append(SVNH_train[i,:,:,:])\n",
    "        SVNH_train_label_fil.append(SVNH_train_label[i][0])"
   ]
  },
  {
   "cell_type": "code",
   "execution_count": 15,
   "metadata": {},
   "outputs": [],
   "source": [
    "SVNH_train_fil=np.asarray(SVNH_train_fil)\n",
    "SVNH_train_label_fil=to_categorical(np.asarray(SVNH_train_label_fil))\n",
    "\n",
    "SVNH_test_fil=np.asarray(SVNH_test_fil)\n",
    "SVNH_test_label_fil=to_categorical(np.asarray(SVNH_test_label_fil))\n"
   ]
  },
  {
   "cell_type": "code",
   "execution_count": 16,
   "metadata": {
    "scrolled": true
   },
   "outputs": [
    {
     "name": "stdout",
     "output_type": "stream",
     "text": [
      "Training Data (45349, 32, 32, 3) Trainning Label (45349, 5)\n",
      "Test Data (16397, 32, 32, 3) Test Label (16397, 5)\n"
     ]
    }
   ],
   "source": [
    "print(\"Training Data\", SVNH_train_fil.shape,\"Trainning Label\",SVNH_train_label_fil.shape)\n",
    "print(\"Test Data\", SVNH_test_fil.shape,\"Test Label\",SVNH_test_label_fil.shape)"
   ]
  },
  {
   "cell_type": "markdown",
   "metadata": {},
   "source": [
    "# Perform Center Crop"
   ]
  },
  {
   "cell_type": "code",
   "execution_count": 17,
   "metadata": {},
   "outputs": [],
   "source": [
    "#SVNH_train_fil=SVNH_train_fil[:,2:30,2:30,:]\n",
    "#SVNH_test_fil=SVNH_test_fil[:,2:30,2:30,:]\n",
    "\n",
    "SVNH_train_fil=SVNH_train[:,2:30,2:30,:]\n",
    "SVNH_test_fil=SVNH_test[:,2:30,2:30,:]\n"
   ]
  },
  {
   "cell_type": "code",
   "execution_count": 18,
   "metadata": {},
   "outputs": [
    {
     "name": "stdout",
     "output_type": "stream",
     "text": [
      "Training Data (73257, 28, 28, 3) Trainning Label (73257, 10)\n",
      "Test Data (26032, 28, 28, 3) Test Label (26032, 10)\n"
     ]
    }
   ],
   "source": [
    "print(\"Training Data\", SVNH_train_fil.shape,\"Trainning Label\",SVNH_train_label_cat.shape)\n",
    "print(\"Test Data\", SVNH_test_fil.shape,\"Test Label\",SVNH_test_label_cat.shape)"
   ]
  },
  {
   "cell_type": "code",
   "execution_count": 20,
   "metadata": {},
   "outputs": [],
   "source": [
    "#Use Lenet Architecture and Perform Domain Transfer Learning between SVNH 0-4 to MNIST 5-9\n",
    "\n",
    "Base_Model=Sequential()\n",
    "Base_Model.add(Conv2D(batch_input_shape=(None,28,28,3),kernel_size=[5,5],filters=6))\n",
    "Base_Model.add(MaxPool2D(pool_size=2, strides=2, padding='valid'))\n",
    "Base_Model.add(Conv2D(kernel_size=[5,5],filters=16))\n",
    "Base_Model.add(MaxPool2D(pool_size=2,strides=2,padding='valid'))\n",
    "Base_Model.add(Flatten())\n",
    "Base_Model.add(Dense(units=120,activation='sigmoid'))\n",
    "Base_Model.add(Dense(units=84,activation='sigmoid'))\n",
    "Base_Model.add(Dense(units=10,activation='softmax'))"
   ]
  },
  {
   "cell_type": "code",
   "execution_count": 21,
   "metadata": {},
   "outputs": [
    {
     "name": "stdout",
     "output_type": "stream",
     "text": [
      "_________________________________________________________________\n",
      "Layer (type)                 Output Shape              Param #   \n",
      "=================================================================\n",
      "conv2d_1 (Conv2D)            (None, 24, 24, 6)         456       \n",
      "_________________________________________________________________\n",
      "max_pooling2d_1 (MaxPooling2 (None, 12, 12, 6)         0         \n",
      "_________________________________________________________________\n",
      "conv2d_2 (Conv2D)            (None, 8, 8, 16)          2416      \n",
      "_________________________________________________________________\n",
      "max_pooling2d_2 (MaxPooling2 (None, 4, 4, 16)          0         \n",
      "_________________________________________________________________\n",
      "flatten_1 (Flatten)          (None, 256)               0         \n",
      "_________________________________________________________________\n",
      "dense_1 (Dense)              (None, 120)               30840     \n",
      "_________________________________________________________________\n",
      "dense_2 (Dense)              (None, 84)                10164     \n",
      "_________________________________________________________________\n",
      "dense_3 (Dense)              (None, 10)                850       \n",
      "=================================================================\n",
      "Total params: 44,726\n",
      "Trainable params: 44,726\n",
      "Non-trainable params: 0\n",
      "_________________________________________________________________\n"
     ]
    }
   ],
   "source": [
    "Base_Model.summary()"
   ]
  },
  {
   "cell_type": "code",
   "execution_count": 22,
   "metadata": {
    "collapsed": true
   },
   "outputs": [],
   "source": [
    "adam=keras.optimizers.Adam(lr=0.0001, beta_1=0.75, beta_2=0.99, epsilon=None, decay=0.0)\n"
   ]
  },
  {
   "cell_type": "code",
   "execution_count": 23,
   "metadata": {
    "collapsed": true
   },
   "outputs": [],
   "source": [
    "#keras.callbacks.TensorBoard(log_dir='/Graph', histogram_freq=0,write_graph=True, write_images=True)\n",
    "tbCallBack = keras.callbacks.TensorBoard(log_dir='./Graph', histogram_freq=0, write_graph=True, write_images=True)\n"
   ]
  },
  {
   "cell_type": "code",
   "execution_count": 24,
   "metadata": {
    "collapsed": true
   },
   "outputs": [],
   "source": [
    "Base_Model.compile(optimizer=adam,loss='categorical_crossentropy',metrics=['accuracy'])"
   ]
  },
  {
   "cell_type": "code",
   "execution_count": 25,
   "metadata": {
    "scrolled": true
   },
   "outputs": [
    {
     "name": "stdout",
     "output_type": "stream",
     "text": [
      "Train on 73257 samples, validate on 26032 samples\n",
      "Epoch 1/10\n",
      "73257/73257 [==============================] - 5s 64us/step - loss: 2.2118 - acc: 0.1919 - val_loss: 2.1371 - val_acc: 0.2409\n",
      "Epoch 2/10\n",
      "73257/73257 [==============================] - 3s 43us/step - loss: 2.0265 - acc: 0.3095 - val_loss: 1.8632 - val_acc: 0.4100\n",
      "Epoch 3/10\n",
      "73257/73257 [==============================] - 3s 43us/step - loss: 1.6898 - acc: 0.4523 - val_loss: 1.5205 - val_acc: 0.4967\n",
      "Epoch 4/10\n",
      "73257/73257 [==============================] - 3s 43us/step - loss: 1.3907 - acc: 0.5574 - val_loss: 1.2881 - val_acc: 0.5889\n",
      "Epoch 5/10\n",
      "73257/73257 [==============================] - 3s 44us/step - loss: 1.1761 - acc: 0.6389 - val_loss: 1.1030 - val_acc: 0.6591\n",
      "Epoch 6/10\n",
      "73257/73257 [==============================] - 3s 43us/step - loss: 1.0178 - acc: 0.6960 - val_loss: 0.9953 - val_acc: 0.7059\n",
      "Epoch 7/10\n",
      "73257/73257 [==============================] - 3s 44us/step - loss: 0.9000 - acc: 0.7338 - val_loss: 0.8928 - val_acc: 0.7285\n",
      "Epoch 8/10\n",
      "73257/73257 [==============================] - 3s 44us/step - loss: 0.8089 - acc: 0.7617 - val_loss: 0.8241 - val_acc: 0.7525\n",
      "Epoch 9/10\n",
      "73257/73257 [==============================] - 3s 44us/step - loss: 0.7382 - acc: 0.7827 - val_loss: 0.7820 - val_acc: 0.7629\n",
      "Epoch 10/10\n",
      "73257/73257 [==============================] - 3s 44us/step - loss: 0.6832 - acc: 0.7984 - val_loss: 0.7288 - val_acc: 0.7810\n"
     ]
    },
    {
     "data": {
      "text/plain": [
       "<keras.callbacks.History at 0x7f68e2cada20>"
      ]
     },
     "execution_count": 25,
     "metadata": {},
     "output_type": "execute_result"
    }
   ],
   "source": [
    "Base_Model.fit(SVNH_train_fil, SVNH_train_label_cat,batch_size=64,epochs=10,verbose=1,validation_data=(SVNH_test_fil, SVNH_test_label_cat),callbacks=[tbCallBack])"
   ]
  },
  {
   "cell_type": "code",
   "execution_count": 26,
   "metadata": {
    "scrolled": false
   },
   "outputs": [
    {
     "name": "stdout",
     "output_type": "stream",
     "text": [
      "Train on 73257 samples, validate on 26032 samples\n",
      "Epoch 1/10\n",
      "73257/73257 [==============================] - 3s 43us/step - loss: 0.6409 - acc: 0.8099 - val_loss: 0.7019 - val_acc: 0.7881\n",
      "Epoch 2/10\n",
      "73257/73257 [==============================] - 3s 43us/step - loss: 0.6058 - acc: 0.8196 - val_loss: 0.6865 - val_acc: 0.7908\n",
      "Epoch 3/10\n",
      "73257/73257 [==============================] - 3s 45us/step - loss: 0.5786 - acc: 0.8275 - val_loss: 0.6566 - val_acc: 0.8016\n",
      "Epoch 4/10\n",
      "73257/73257 [==============================] - 3s 44us/step - loss: 0.5549 - acc: 0.8349 - val_loss: 0.6423 - val_acc: 0.8066\n",
      "Epoch 5/10\n",
      "73257/73257 [==============================] - 3s 43us/step - loss: 0.5361 - acc: 0.8407 - val_loss: 0.6278 - val_acc: 0.8105\n",
      "Epoch 6/10\n",
      "73257/73257 [==============================] - 3s 44us/step - loss: 0.5184 - acc: 0.8458 - val_loss: 0.6235 - val_acc: 0.8124\n",
      "Epoch 7/10\n",
      "73257/73257 [==============================] - 3s 44us/step - loss: 0.5050 - acc: 0.8508 - val_loss: 0.6134 - val_acc: 0.8154\n",
      "Epoch 8/10\n",
      "73257/73257 [==============================] - 3s 44us/step - loss: 0.4915 - acc: 0.8546 - val_loss: 0.6047 - val_acc: 0.8191\n",
      "Epoch 9/10\n",
      "73257/73257 [==============================] - 3s 43us/step - loss: 0.4788 - acc: 0.8585 - val_loss: 0.6003 - val_acc: 0.8214\n",
      "Epoch 10/10\n",
      "73257/73257 [==============================] - 3s 44us/step - loss: 0.4682 - acc: 0.8616 - val_loss: 0.5921 - val_acc: 0.8229\n"
     ]
    },
    {
     "data": {
      "text/plain": [
       "<keras.callbacks.History at 0x7f68e1736eb8>"
      ]
     },
     "execution_count": 26,
     "metadata": {},
     "output_type": "execute_result"
    }
   ],
   "source": [
    "Base_Model.fit(SVNH_train_fil, SVNH_train_label_cat,batch_size=64,epochs=10,verbose=1,validation_data=(SVNH_test_fil, SVNH_test_label_cat),callbacks=[tbCallBack])"
   ]
  },
  {
   "cell_type": "code",
   "execution_count": 31,
   "metadata": {
    "collapsed": true
   },
   "outputs": [],
   "source": [
    "adam=keras.optimizers.Adam(lr=0.0001, beta_1=0.75, beta_2=0.99, epsilon=None, decay=0.0)\n",
    "Base_Model.compile(optimizer=adam,loss='categorical_crossentropy',metrics=['accuracy'])"
   ]
  },
  {
   "cell_type": "code",
   "execution_count": 32,
   "metadata": {
    "scrolled": true
   },
   "outputs": [
    {
     "name": "stdout",
     "output_type": "stream",
     "text": [
      "Train on 73257 samples, validate on 26032 samples\n",
      "Epoch 1/10\n",
      "73257/73257 [==============================] - 3s 42us/step - loss: 0.2784 - acc: 0.9192 - val_loss: 0.6086 - val_acc: 0.8303\n",
      "Epoch 2/10\n",
      "73257/73257 [==============================] - 3s 45us/step - loss: 0.2801 - acc: 0.9189 - val_loss: 0.6157 - val_acc: 0.8259\n",
      "Epoch 3/10\n",
      "73257/73257 [==============================] - 3s 47us/step - loss: 0.2770 - acc: 0.9192 - val_loss: 0.6085 - val_acc: 0.8288\n",
      "Epoch 4/10\n",
      "73257/73257 [==============================] - 3s 43us/step - loss: 0.2771 - acc: 0.9192 - val_loss: 0.6047 - val_acc: 0.8302\n",
      "Epoch 5/10\n",
      "73257/73257 [==============================] - 3s 42us/step - loss: 0.2750 - acc: 0.9199 - val_loss: 0.6105 - val_acc: 0.8306\n",
      "Epoch 6/10\n",
      "73257/73257 [==============================] - 3s 45us/step - loss: 0.2739 - acc: 0.9201 - val_loss: 0.6121 - val_acc: 0.8294\n",
      "Epoch 7/10\n",
      "73257/73257 [==============================] - 3s 44us/step - loss: 0.2726 - acc: 0.9211 - val_loss: 0.6127 - val_acc: 0.8295\n",
      "Epoch 8/10\n",
      "73257/73257 [==============================] - 3s 45us/step - loss: 0.2703 - acc: 0.9213 - val_loss: 0.6112 - val_acc: 0.8297\n",
      "Epoch 9/10\n",
      "73257/73257 [==============================] - 3s 45us/step - loss: 0.2691 - acc: 0.9218 - val_loss: 0.6081 - val_acc: 0.8312\n",
      "Epoch 10/10\n",
      "73257/73257 [==============================] - 3s 46us/step - loss: 0.2687 - acc: 0.9222 - val_loss: 0.6139 - val_acc: 0.8297\n"
     ]
    },
    {
     "data": {
      "text/plain": [
       "<keras.callbacks.History at 0x7f68e1763c88>"
      ]
     },
     "execution_count": 32,
     "metadata": {},
     "output_type": "execute_result"
    }
   ],
   "source": [
    "Base_Model.fit(SVNH_train_fil, SVNH_train_label_cat,batch_size=64,epochs=10,verbose=1,validation_data=(SVNH_test_fil, SVNH_test_label_cat),callbacks=[tbCallBack])"
   ]
  },
  {
   "cell_type": "code",
   "execution_count": 28,
   "metadata": {},
   "outputs": [],
   "source": [
    "Base_Model.load_weights('SVNH_model_1.h5')"
   ]
  },
  {
   "cell_type": "code",
   "execution_count": null,
   "metadata": {},
   "outputs": [],
   "source": [
    "Base_Model.save('SVNH_model_1.h5')\n",
    "#model.save('my_model.h5')  # creates a HDF5 file 'my_model.h5'\n"
   ]
  },
  {
   "cell_type": "code",
   "execution_count": 35,
   "metadata": {
    "collapsed": true
   },
   "outputs": [],
   "source": [
    "adam=keras.optimizers.Adam(lr=1e-6, beta_1=0.75, beta_2=0.99, epsilon=None, decay=0.0)\n"
   ]
  },
  {
   "cell_type": "code",
   "execution_count": null,
   "metadata": {
    "scrolled": false
   },
   "outputs": [
    {
     "name": "stdout",
     "output_type": "stream",
     "text": [
      "Train on 73257 samples, validate on 26032 samples\n",
      "Epoch 1/10\n",
      "73257/73257 [==============================] - 3s 43us/step - loss: 0.2526 - acc: 0.9277 - val_loss: 0.6193 - val_acc: 0.8294\n",
      "Epoch 2/10\n",
      "73257/73257 [==============================] - 3s 43us/step - loss: 0.2517 - acc: 0.9279 - val_loss: 0.6251 - val_acc: 0.8292\n",
      "Epoch 3/10\n",
      "73257/73257 [==============================] - 3s 44us/step - loss: 0.2499 - acc: 0.9281 - val_loss: 0.6225 - val_acc: 0.8305\n",
      "Epoch 4/10\n",
      "73257/73257 [==============================] - 3s 44us/step - loss: 0.2486 - acc: 0.9289 - val_loss: 0.6257 - val_acc: 0.8294\n",
      "Epoch 5/10\n",
      " 3968/73257 [>.............................] - ETA: 2s - loss: 0.2352 - acc: 0.9330"
     ]
    }
   ],
   "source": [
    "Base_Model.fit(SVNH_train_fil, SVNH_train_label_cat,batch_size=64,epochs=10,verbose=1,validation_data=(SVNH_test_fil, SVNH_test_label_cat),callbacks=[tbCallBack])"
   ]
  },
  {
   "cell_type": "code",
   "execution_count": 34,
   "metadata": {},
   "outputs": [
    {
     "data": {
      "text/plain": [
       "'1.4.1'"
      ]
     },
     "execution_count": 34,
     "metadata": {},
     "output_type": "execute_result"
    }
   ],
   "source": [
    "tf.__version__"
   ]
  },
  {
   "cell_type": "code",
   "execution_count": null,
   "metadata": {
    "collapsed": true
   },
   "outputs": [],
   "source": []
  }
 ],
 "metadata": {
  "kernelspec": {
   "display_name": "Keras",
   "language": "python",
   "name": "keras"
  },
  "language_info": {
   "codemirror_mode": {
    "name": "ipython",
    "version": 3
   },
   "file_extension": ".py",
   "mimetype": "text/x-python",
   "name": "python",
   "nbconvert_exporter": "python",
   "pygments_lexer": "ipython3",
   "version": "3.6.4"
  }
 },
 "nbformat": 4,
 "nbformat_minor": 2
}
