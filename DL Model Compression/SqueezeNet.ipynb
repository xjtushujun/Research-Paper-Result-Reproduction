{
 "cells": [
  {
   "cell_type": "code",
   "execution_count": 2,
   "metadata": {},
   "outputs": [],
   "source": [
    "import torch\n",
    "import torch.nn as nn\n",
    "import torch.optim as optim\n",
    "from torchvision.datasets import MNIST\n",
    "from torchvision.transforms import transforms"
   ]
  },
  {
   "cell_type": "code",
   "execution_count": 3,
   "metadata": {},
   "outputs": [
    {
     "data": {
      "text/plain": [
       "Compose(\n",
       "    ToTensor()\n",
       "    RandomHorizontalFlip(p=0.5)\n",
       ")"
      ]
     },
     "execution_count": 3,
     "metadata": {},
     "output_type": "execute_result"
    }
   ],
   "source": [
    "transforms.Compose([transforms.ToTensor(),transforms.RandomHorizontalFlip()])"
   ]
  },
  {
   "cell_type": "code",
   "execution_count": 6,
   "metadata": {},
   "outputs": [
    {
     "name": "stdout",
     "output_type": "stream",
     "text": [
      "Downloading http://yann.lecun.com/exdb/mnist/train-images-idx3-ubyte.gz\n",
      "Downloading http://yann.lecun.com/exdb/mnist/train-labels-idx1-ubyte.gz\n",
      "Downloading http://yann.lecun.com/exdb/mnist/t10k-images-idx3-ubyte.gz\n",
      "Downloading http://yann.lecun.com/exdb/mnist/t10k-labels-idx1-ubyte.gz\n",
      "Processing...\n",
      "Done!\n"
     ]
    }
   ],
   "source": [
    "train_data=MNIST(root='',train=True,download=True)\n",
    "test_data=MNIST(root='',train=False,download=True)\n"
   ]
  },
  {
   "cell_type": "markdown",
   "metadata": {},
   "source": [
    "# Keras Fire module Implementation \n",
    "## Modular function for Fire Node\n",
    "\n",
    "def fire_module(x, fire_id, squeeze=16, expand=64):\n",
    "    s_id = 'fire' + str(fire_id) + '/'\n",
    "\n",
    "    if K.image_data_format() == 'channels_first':\n",
    "        channel_axis = 1\n",
    "    else:\n",
    "        channel_axis = 3\n",
    "    \n",
    "    x = Convolution2D(squeeze, (1, 1), padding='valid', name=s_id + sq1x1)(x)\n",
    "    x = Activation('relu', name=s_id + relu + sq1x1)(x)\n",
    "\n",
    "    left = Convolution2D(expand, (1, 1), padding='valid', name=s_id + exp1x1)(x)\n",
    "    left = Activation('relu', name=s_id + relu + exp1x1)(left)\n",
    "\n",
    "    right = Convolution2D(expand, (3, 3), padding='same', name=s_id + exp3x3)(x)\n",
    "    right = Activation('relu', name=s_id + relu + exp3x3)(right)\n",
    "\n",
    "    x = concatenate([left, right], axis=channel_axis, name=s_id + 'concat')\n",
    "    return x\n",
    "\n"
   ]
  },
  {
   "cell_type": "code",
   "execution_count": 8,
   "metadata": {},
   "outputs": [
    {
     "data": {
      "text/plain": [
       "<function torch.nn.modules.module.Module.named_modules(self, memo=None, prefix='')>"
      ]
     },
     "execution_count": 8,
     "metadata": {},
     "output_type": "execute_result"
    }
   ],
   "source": [
    "nn.Module.named_modules"
   ]
  },
  {
   "cell_type": "code",
   "execution_count": null,
   "metadata": {},
   "outputs": [],
   "source": [
    "class SqueezeModule(nn.Module):\n",
    "    def __init__(x, fire_id, squeeze=16, expand=64):\n",
    "        super(SqueezeModule,self).__init__()\n",
    "        s_id = 'fire' + str(fire_id) + '/'\n",
    "        self.sq1x1 = torch.nn.Sequential()\n",
    "        self.sq1x1.add_module(\"s_id +'sq1x1'\", torch.nn.Conv2d(3, 299, kernel_size=5))\n",
    "        self.sq1x1.add_module(\"s_id +'relu'+'sq1x1'\", torch.nn.ReLU())\n",
    "        \n",
    "        self.left=nn.ReLU(nn.Conv2d(expand,(1,1)\n",
    "        \n",
    "        self.conv.add_module(\"relu_1\", torch.nn.ReLU())\n",
    "        self.conv.add_module(\"conv_2\", torch.nn.Conv2d(299, 50, kernel_size=5))\n",
    "        self.conv.add_module(\"dropout_2\", torch.nn.Dropout())\n",
    "        self.conv.add_module(\"maxpool_2\", torch.nn.MaxPool2d(kernel_size=2))\n",
    "        self.conv.add_module(\"relu_2\", torch.nn.ReLU())\n",
    "\n",
    "        \n",
    "        nn.Conv2d(squeeze, kernel_size=(1, 1), padding='valid')\n",
    "        x = Activation('relu', name=s_id + relu + sq1x1)(x)\n",
    "\n",
    "        left = Convolution2D(expand, (1, 1), padding='valid', name=s_id + exp1x1)(x)\n",
    "        left = Activation('relu', name=s_id + relu + exp1x1)(left)\n",
    "\n",
    "        right = Convolution2D(expand, (3, 3), padding='same', name=s_id + exp3x3)(x)\n",
    "        right = Activation('relu', name=s_id + relu + exp3x3)(right)\n",
    "\n",
    "        x = concatenate([left, right], axis=channel_axis, name=s_id + 'concat')\n",
    "        return x"
   ]
  }
 ],
 "metadata": {
  "kernelspec": {
   "display_name": "fastai-cpu",
   "language": "python",
   "name": "fastai-cpu"
  },
  "language_info": {
   "codemirror_mode": {
    "name": "ipython",
    "version": 3
   },
   "file_extension": ".py",
   "mimetype": "text/x-python",
   "name": "python",
   "nbconvert_exporter": "python",
   "pygments_lexer": "ipython3",
   "version": "3.6.5"
  }
 },
 "nbformat": 4,
 "nbformat_minor": 2
}
